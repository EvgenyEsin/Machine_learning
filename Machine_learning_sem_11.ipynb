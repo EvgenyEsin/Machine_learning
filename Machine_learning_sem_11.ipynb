{
  "nbformat": 4,
  "nbformat_minor": 0,
  "metadata": {
    "colab": {
      "provenance": [],
      "authorship_tag": "ABX9TyM6vbVo909AM5J18/zA2Xyo",
      "include_colab_link": true
    },
    "kernelspec": {
      "name": "python3",
      "display_name": "Python 3"
    },
    "language_info": {
      "name": "python"
    }
  },
  "cells": [
    {
      "cell_type": "markdown",
      "metadata": {
        "id": "view-in-github",
        "colab_type": "text"
      },
      "source": [
        "<a href=\"https://colab.research.google.com/github/EvgenyEsin/Machine_learning/blob/main/Machine_learning_sem_11.ipynb\" target=\"_parent\"><img src=\"https://colab.research.google.com/assets/colab-badge.svg\" alt=\"Open In Colab\"/></a>"
      ]
    },
    {
      "cell_type": "markdown",
      "source": [
        "# ДЗ к семинару 11\n",
        "\n",
        "1. Загрузите набор данных, подходящий для задачи классификации или\n",
        "регрессии. Вы можете использовать любой набор данных, предоставленный в\n",
        "библиотеке scikit-learn или другом доступном источнике данных.\n",
        "2. Разделите данные на обучающую и тестовую выборки с помощью функции\n",
        "train_test_split из библиотеки scikit-learn.\n",
        "3. Создайте модель машинного обучения, которую вы хотитеиспользовать для\n",
        "предсказания на этом наборе данных. Например, можно использовать модель\n",
        "линейной регрессии или случайный лес для задачи регрессии, или модель\n",
        "логистической регрессии или случайный лес для задачи классификации.\n",
        "4. Используйте метод кросс-валидации, чтобы оценить производительность\n",
        "модели на обучающей выборке. Например, можно использовать метод\n",
        "cross_val_score из библиотеки scikit-learn с использованием метрики оценки,\n",
        "такой как точность (accuracy) или среднеквадратичная ошибка (mean squared\n",
        "error).\n",
        "5. Проведите подбор гиперпараметров модели с помощью метода GridSearchCV из\n",
        "библиотеки scikit-learn. Этот метод позволяет перебирать различные значения\n",
        "гиперпараметров и выбирать наилучшие значения на основе кросс-валидации.\n",
        "6. Обучите модель с использованием оптимальных гиперпараметров на\n",
        "обучающей выборке и оцени ее производительность на тестовой выборке.\n",
        "7. Проведите анализ результатов и сделай выводы о процессе кросс-валидации и\n",
        "подборе гиперпараметров в задачах машинного обучения."
      ],
      "metadata": {
        "id": "a5hR3wk9Il3o"
      }
    },
    {
      "cell_type": "markdown",
      "source": [
        "## 1. Загрузка набора данных"
      ],
      "metadata": {
        "id": "JjESlIwsIy5f"
      }
    },
    {
      "cell_type": "code",
      "execution_count": 1,
      "metadata": {
        "colab": {
          "base_uri": "https://localhost:8080/"
        },
        "id": "AlMGEcJKIha4",
        "outputId": "4e351958-f3d1-44b5-8200-fbf203ebf3a9"
      },
      "outputs": [
        {
          "output_type": "stream",
          "name": "stdout",
          "text": [
            "   sepal length (cm)  sepal width (cm)  petal length (cm)  petal width (cm)  \\\n",
            "0                5.1               3.5                1.4               0.2   \n",
            "1                4.9               3.0                1.4               0.2   \n",
            "2                4.7               3.2                1.3               0.2   \n",
            "3                4.6               3.1                1.5               0.2   \n",
            "4                5.0               3.6                1.4               0.2   \n",
            "\n",
            "   target  \n",
            "0       0  \n",
            "1       0  \n",
            "2       0  \n",
            "3       0  \n",
            "4       0  \n"
          ]
        }
      ],
      "source": [
        "from sklearn.datasets import load_iris\n",
        "import pandas as pd\n",
        "\n",
        "# Загрузка набора данных\n",
        "data = load_iris()\n",
        "X = data.data\n",
        "y = data.target\n",
        "\n",
        "# Преобразуем в DataFrame для удобства\n",
        "df = pd.DataFrame(X, columns=data.feature_names)\n",
        "df['target'] = y\n",
        "print(df.head())\n"
      ]
    },
    {
      "cell_type": "markdown",
      "source": [
        "## 2. Разделение данных на обучающую и тестовую выборки"
      ],
      "metadata": {
        "id": "j3onUMWPJQUU"
      }
    },
    {
      "cell_type": "code",
      "source": [
        "from sklearn.model_selection import train_test_split\n",
        "\n",
        "# Разделение данных на обучающую и тестовую выборки\n",
        "X_train, X_test, y_train, y_test = train_test_split(X, y, test_size=0.2, random_state=42)"
      ],
      "metadata": {
        "id": "Heh-HyYAJM15"
      },
      "execution_count": 2,
      "outputs": []
    },
    {
      "cell_type": "markdown",
      "source": [
        "## 3. Создание модели машинного обучения\n",
        "\n",
        "В данном случае мы будем использовать модель случайного леса."
      ],
      "metadata": {
        "id": "PZYwY6zsJZg1"
      }
    },
    {
      "cell_type": "code",
      "source": [
        "from sklearn.ensemble import RandomForestClassifier\n",
        "\n",
        "# Создание модели случайного леса\n",
        "model = RandomForestClassifier(random_state=42)"
      ],
      "metadata": {
        "id": "HbDW-8dmJM4m"
      },
      "execution_count": 3,
      "outputs": []
    },
    {
      "cell_type": "markdown",
      "source": [
        "## 4. Оценка производительности модели с помощью кросс-валидации"
      ],
      "metadata": {
        "id": "5MMpVywHJosz"
      }
    },
    {
      "cell_type": "code",
      "source": [
        "from sklearn.model_selection import cross_val_score\n",
        "\n",
        "# Оценка производительности модели с помощью кросс-валидации\n",
        "cv_scores = cross_val_score(model, X_train, y_train, cv=5, scoring='accuracy')\n",
        "print(f'Кросс-валидация: Средняя точность = {cv_scores.mean():.2f} +/- {cv_scores.std():.2f}')"
      ],
      "metadata": {
        "colab": {
          "base_uri": "https://localhost:8080/"
        },
        "id": "TPNyye6wJM7T",
        "outputId": "0d44d2f6-b08f-4202-f7f4-71da5cba121c"
      },
      "execution_count": 4,
      "outputs": [
        {
          "output_type": "stream",
          "name": "stdout",
          "text": [
            "Кросс-валидация: Средняя точность = 0.94 +/- 0.06\n"
          ]
        }
      ]
    },
    {
      "cell_type": "markdown",
      "source": [
        "## 5. Подбор гиперпараметров с помощью GridSearchCV"
      ],
      "metadata": {
        "id": "GZNCdM0NJ8rV"
      }
    },
    {
      "cell_type": "code",
      "source": [
        "from sklearn.model_selection import GridSearchCV\n",
        "\n",
        "# Определение параметров для подбора\n",
        "param_grid = {\n",
        "    'n_estimators': [10, 50, 100],\n",
        "    'max_depth': [None, 10, 20, 30],\n",
        "}\n",
        "\n",
        "# Подбор гиперпараметров\n",
        "grid_search = GridSearchCV(RandomForestClassifier(random_state=42), param_grid, cv=5, scoring='accuracy')\n",
        "grid_search.fit(X_train, y_train)\n",
        "\n",
        "print(f'Лучшие параметры: {grid_search.best_params_}')\n",
        "print(f'Лучшая точность: {grid_search.best_score_:.2f}')"
      ],
      "metadata": {
        "colab": {
          "base_uri": "https://localhost:8080/"
        },
        "id": "d03JbYm_JNAU",
        "outputId": "dbf7ef14-95a9-4bcf-9c9d-8b1d19632081"
      },
      "execution_count": 5,
      "outputs": [
        {
          "output_type": "stream",
          "name": "stdout",
          "text": [
            "Лучшие параметры: {'max_depth': None, 'n_estimators': 10}\n",
            "Лучшая точность: 0.95\n"
          ]
        }
      ]
    },
    {
      "cell_type": "markdown",
      "source": [
        "## 6. Обучение модели с оптимальными гиперпараметрами и оценка на тестовой выборке"
      ],
      "metadata": {
        "id": "ZCDOVaO2KSsV"
      }
    },
    {
      "cell_type": "code",
      "source": [
        "# Обучение модели с оптимальными гиперпараметрами\n",
        "best_model = grid_search.best_estimator_\n",
        "best_model.fit(X_train, y_train)\n",
        "\n",
        "# Оценка производительности на тестовой выборке\n",
        "test_accuracy = best_model.score(X_test, y_test)\n",
        "print(f'Точность на тестовой выборке: {test_accuracy:.2f}')"
      ],
      "metadata": {
        "colab": {
          "base_uri": "https://localhost:8080/"
        },
        "id": "CLmzUSNqJNDQ",
        "outputId": "72e4b4aa-b770-4cf2-aafe-df52b5bdaf13"
      },
      "execution_count": 6,
      "outputs": [
        {
          "output_type": "stream",
          "name": "stdout",
          "text": [
            "Точность на тестовой выборке: 1.00\n"
          ]
        }
      ]
    },
    {
      "cell_type": "markdown",
      "source": [
        "## 7. Анализ результатов и выводы"
      ],
      "metadata": {
        "id": "5MTZ1g54KiOi"
      }
    },
    {
      "cell_type": "markdown",
      "source": [
        "На этом этапе мы можем сделать выводы о процессе кросс-валидации и подборе гиперпараметров:\n",
        "\n",
        "• Кросс-валидация позволяет получить более надежную оценку производительности модели, так как она использует разные подмножества данных для обучения и тестирования.\n",
        "\n",
        "• Подбор гиперпараметров с использованием GridSearchCV помогает найти наилучшие параметры для модели, что может значительно улучшить ее производительность.\n",
        "\n",
        "• В нашем случае использование случайного леса показало хорошую точность как на обучающей выборке (в ходе кросс-валидации), так и на тестовой выборке.\n",
        "\n",
        "Эти шаги составляют стандартный процесс в задачах машинного обучения и помогают обеспечить надежные и воспроизводимые результаты."
      ],
      "metadata": {
        "id": "_8XFm9b1KnH_"
      }
    }
  ]
}